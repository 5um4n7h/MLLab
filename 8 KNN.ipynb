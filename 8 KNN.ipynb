{
 "cells": [
  {
   "cell_type": "code",
   "execution_count": 11,
   "id": "51e3aa88",
   "metadata": {},
   "outputs": [],
   "source": [
    "from sklearn import datasets\n",
    "from sklearn import metrics\n",
    "from sklearn.model_selection import train_test_split\n",
    "from sklearn.neighbors import KNeighborsClassifier\n",
    "import numpy as np"
   ]
  },
  {
   "cell_type": "code",
   "execution_count": 12,
   "id": "a53b3560",
   "metadata": {},
   "outputs": [],
   "source": [
    "iris = datasets.load_iris()\n",
    "x_train,x_test,y_train,y_test = train_test_split(iris.data,iris.target)"
   ]
  },
  {
   "cell_type": "code",
   "execution_count": 13,
   "id": "df535c4d",
   "metadata": {},
   "outputs": [
    {
     "name": "stdout",
     "output_type": "stream",
     "text": [
      "0.9736842105263158\n",
      "0.9736842105263158\n"
     ]
    }
   ],
   "source": [
    "model = KNeighborsClassifier(n_neighbors=3)\n",
    "model.fit(x_train,y_train)\n",
    "print(metrics.accuracy_score(y_test,model.predict(x_test)))\n",
    "print(model.score(x_test,y_test))"
   ]
  },
  {
   "cell_type": "code",
   "execution_count": 18,
   "id": "a77a6062",
   "metadata": {},
   "outputs": [
    {
     "name": "stdout",
     "output_type": "stream",
     "text": [
      "[[6.1 3.  4.6 1.4]]\n",
      "1 versicolor [1] ['versicolor']\n",
      "[[6.1 3.  4.9 1.8]]\n",
      "2 virginica [2] ['virginica']\n",
      "[[6.4 2.7 5.3 1.9]]\n",
      "2 virginica [2] ['virginica']\n",
      "[[5.1 3.5 1.4 0.3]]\n",
      "0 setosa [0] ['setosa']\n",
      "[[6.8 3.  5.5 2.1]]\n",
      "2 virginica [2] ['virginica']\n",
      "[[6.2 2.9 4.3 1.3]]\n",
      "1 versicolor [1] ['versicolor']\n",
      "[[6.  2.2 4.  1. ]]\n",
      "1 versicolor [1] ['versicolor']\n",
      "[[6.7 3.1 4.7 1.5]]\n",
      "1 versicolor [1] ['versicolor']\n",
      "[[5.  3.4 1.5 0.2]]\n",
      "0 setosa [0] ['setosa']\n",
      "[[5.6 3.  4.1 1.3]]\n",
      "1 versicolor [1] ['versicolor']\n",
      "[[6.4 2.8 5.6 2.2]]\n",
      "2 virginica [2] ['virginica']\n",
      "[[7.9 3.8 6.4 2. ]]\n",
      "2 virginica [2] ['virginica']\n",
      "[[6.  3.  4.8 1.8]]\n",
      "2 virginica [2] ['virginica']\n",
      "[[7.2 3.  5.8 1.6]]\n",
      "2 virginica [2] ['virginica']\n",
      "[[7.1 3.  5.9 2.1]]\n",
      "2 virginica [2] ['virginica']\n",
      "[[5.7 2.8 4.1 1.3]]\n",
      "1 versicolor [1] ['versicolor']\n",
      "[[5.  3.5 1.6 0.6]]\n",
      "0 setosa [0] ['setosa']\n",
      "[[5.5 2.3 4.  1.3]]\n",
      "1 versicolor [1] ['versicolor']\n",
      "[[5.  3.6 1.4 0.2]]\n",
      "0 setosa [0] ['setosa']\n",
      "[[4.4 3.2 1.3 0.2]]\n",
      "0 setosa [0] ['setosa']\n",
      "[[6.3 2.7 4.9 1.8]]\n",
      "2 virginica [2] ['virginica']\n",
      "[[6.5 3.2 5.1 2. ]]\n",
      "2 virginica [2] ['virginica']\n",
      "[[5.7 2.8 4.5 1.3]]\n",
      "1 versicolor [1] ['versicolor']\n",
      "[[6.2 2.2 4.5 1.5]]\n",
      "1 versicolor [1] ['versicolor']\n",
      "[[5.  3.3 1.4 0.2]]\n",
      "0 setosa [0] ['setosa']\n",
      "[[7.7 2.6 6.9 2.3]]\n",
      "2 virginica [2] ['virginica']\n",
      "[[5.2 4.1 1.5 0.1]]\n",
      "0 setosa [0] ['setosa']\n",
      "[[6.  2.9 4.5 1.5]]\n",
      "1 versicolor [1] ['versicolor']\n",
      "[[6.3 3.3 6.  2.5]]\n",
      "2 virginica [2] ['virginica']\n",
      "[[5.7 2.6 3.5 1. ]]\n",
      "1 versicolor [1] ['versicolor']\n",
      "[[6.  3.4 4.5 1.6]]\n",
      "1 versicolor [1] ['versicolor']\n",
      "[[5.5 2.4 3.8 1.1]]\n",
      "1 versicolor [1] ['versicolor']\n",
      "[[5.1 3.5 1.4 0.2]]\n",
      "0 setosa [0] ['setosa']\n",
      "[[5.2 2.7 3.9 1.4]]\n",
      "1 versicolor [1] ['versicolor']\n",
      "[[5.5 2.6 4.4 1.2]]\n",
      "1 versicolor [1] ['versicolor']\n",
      "[[6.  2.7 5.1 1.6]]\n",
      "1 versicolor [2] ['virginica']\n",
      "[[6.  2.2 5.  1.5]]\n",
      "2 virginica [2] ['virginica']\n",
      "[[4.9 3.  1.4 0.2]]\n",
      "0 setosa [0] ['setosa']\n"
     ]
    }
   ],
   "source": [
    "for i in range(len(x_test)):\n",
    "    ni = np.array([x_test[i]])\n",
    "    print(ni)\n",
    "    actual = y_test[i]\n",
    "    pred = model.predict(ni)\n",
    "    act_l = iris[\"target_names\"][actual]\n",
    "    pred_l= iris[\"target_names\"][pred]\n",
    "    print(actual,act_l,pred,pred_l)"
   ]
  },
  {
   "cell_type": "code",
   "execution_count": null,
   "id": "e8c472e2",
   "metadata": {},
   "outputs": [],
   "source": []
  },
  {
   "cell_type": "code",
   "execution_count": null,
   "id": "5bfb4bee",
   "metadata": {},
   "outputs": [],
   "source": []
  }
 ],
 "metadata": {
  "kernelspec": {
   "display_name": "Python 3 (ipykernel)",
   "language": "python",
   "name": "python3"
  },
  "language_info": {
   "codemirror_mode": {
    "name": "ipython",
    "version": 3
   },
   "file_extension": ".py",
   "mimetype": "text/x-python",
   "name": "python",
   "nbconvert_exporter": "python",
   "pygments_lexer": "ipython3",
   "version": "3.9.7"
  }
 },
 "nbformat": 4,
 "nbformat_minor": 5
}
