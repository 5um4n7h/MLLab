{
 "cells": [
  {
   "cell_type": "code",
   "execution_count": 3,
   "id": "bf6e5be7",
   "metadata": {},
   "outputs": [],
   "source": [
    "def AStar(start,goal):\n",
    "    parents= {}\n",
    "    g = {}\n",
    "    parents[start] = start\n",
    "    g[start] = 0\n",
    "    \n",
    "    opens = set(start)\n",
    "    closes = set()\n",
    "    \n",
    "    while len(opens)>0 :\n",
    "        \n",
    "        best = None\n",
    "        for node in opens:\n",
    "            if best==None or g[best]+h[best]>g[node]+h[node]:\n",
    "                best = node\n",
    "        \n",
    "        if best == None:\n",
    "            break\n",
    "        \n",
    "        if best==goal:\n",
    "            path=[]\n",
    "            while best!=start:\n",
    "                path.append(best)\n",
    "                best = parents[best]\n",
    "            path.append(start)\n",
    "            print(\"Path : \",path[::-1])\n",
    "            return\n",
    "        \n",
    "\n",
    "        for (node,w) in g[best]:\n",
    "            if node not in closes and node not in opens:\n",
    "                opens.add(node)\n",
    "                g[node] = g[best]+w\n",
    "                parents[node] = best\n",
    "            elif g[node]>g[best]+w:\n",
    "                    opens.add(node)\n",
    "                    g[node] = g[best]+w\n",
    "                    parents[node] = best\n",
    "                    if node in closes:\n",
    "                        opens.add(node)\n",
    "                        closes.remove(node)\n",
    "                    \n",
    "        opens.remove(best)\n",
    "        closes.add(best)\n",
    "    print(\"No path: \")\n",
    "    return\n",
    "        "
   ]
  },
  {
   "cell_type": "code",
   "execution_count": 4,
   "id": "e9324bca",
   "metadata": {},
   "outputs": [
    {
     "ename": "TypeError",
     "evalue": "'int' object is not iterable",
     "output_type": "error",
     "traceback": [
      "\u001b[1;31m---------------------------------------------------------------------------\u001b[0m",
      "\u001b[1;31mTypeError\u001b[0m                                 Traceback (most recent call last)",
      "\u001b[1;32mC:\\Users\\SUMANT~1\\AppData\\Local\\Temp/ipykernel_10052/2845352885.py\u001b[0m in \u001b[0;36m<module>\u001b[1;34m\u001b[0m\n\u001b[0;32m     21\u001b[0m }\n\u001b[0;32m     22\u001b[0m \u001b[1;33m\u001b[0m\u001b[0m\n\u001b[1;32m---> 23\u001b[1;33m \u001b[0mAStar\u001b[0m\u001b[1;33m(\u001b[0m\u001b[1;34m'A'\u001b[0m\u001b[1;33m,\u001b[0m \u001b[1;34m'J'\u001b[0m\u001b[1;33m)\u001b[0m\u001b[1;33m\u001b[0m\u001b[1;33m\u001b[0m\u001b[0m\n\u001b[0m",
      "\u001b[1;32mC:\\Users\\SUMANT~1\\AppData\\Local\\Temp/ipykernel_10052/2236566197.py\u001b[0m in \u001b[0;36mAStar\u001b[1;34m(start, goal)\u001b[0m\n\u001b[0;32m     28\u001b[0m \u001b[1;33m\u001b[0m\u001b[0m\n\u001b[0;32m     29\u001b[0m \u001b[1;33m\u001b[0m\u001b[0m\n\u001b[1;32m---> 30\u001b[1;33m         \u001b[1;32mfor\u001b[0m \u001b[1;33m(\u001b[0m\u001b[0mnode\u001b[0m\u001b[1;33m,\u001b[0m\u001b[0mw\u001b[0m\u001b[1;33m)\u001b[0m \u001b[1;32min\u001b[0m \u001b[0mg\u001b[0m\u001b[1;33m[\u001b[0m\u001b[0mbest\u001b[0m\u001b[1;33m]\u001b[0m\u001b[1;33m:\u001b[0m\u001b[1;33m\u001b[0m\u001b[1;33m\u001b[0m\u001b[0m\n\u001b[0m\u001b[0;32m     31\u001b[0m             \u001b[1;32mif\u001b[0m \u001b[0mnode\u001b[0m \u001b[1;32mnot\u001b[0m \u001b[1;32min\u001b[0m \u001b[0mcloses\u001b[0m \u001b[1;32mand\u001b[0m \u001b[0mnode\u001b[0m \u001b[1;32mnot\u001b[0m \u001b[1;32min\u001b[0m \u001b[0mopens\u001b[0m\u001b[1;33m:\u001b[0m\u001b[1;33m\u001b[0m\u001b[1;33m\u001b[0m\u001b[0m\n\u001b[0;32m     32\u001b[0m                 \u001b[0mopens\u001b[0m\u001b[1;33m.\u001b[0m\u001b[0madd\u001b[0m\u001b[1;33m(\u001b[0m\u001b[0mnode\u001b[0m\u001b[1;33m)\u001b[0m\u001b[1;33m\u001b[0m\u001b[1;33m\u001b[0m\u001b[0m\n",
      "\u001b[1;31mTypeError\u001b[0m: 'int' object is not iterable"
     ]
    }
   ],
   "source": [
    "h = {\n",
    "        'A': 2,\n",
    "        'B': 8,\n",
    "        'C': 2,\n",
    "        'D': 1,\n",
    "        'F': 12,\n",
    "        'G': 0\n",
    "    }\n",
    " \n",
    "\n",
    "# Describe your graph here\n",
    "g={\n",
    "\n",
    "    \n",
    "    'A': [('B', 2), ('C', 1)],\n",
    "    'B': [('A', 2), ('D', 1)],\n",
    "    'C': [('A', 1), ('F', 2)],\n",
    "    'D': [('B', 1), ('G', 1)],\n",
    "    'G': [('D', 1), ('F', 2)],\n",
    "    'F': [('G', 2), ('C', 2)]\n",
    "}\n",
    "\n",
    "AStar('A', 'J')"
   ]
  },
  {
   "cell_type": "code",
   "execution_count": null,
   "id": "3d4d4478",
   "metadata": {},
   "outputs": [],
   "source": []
  },
  {
   "cell_type": "code",
   "execution_count": null,
   "id": "2710fb0a",
   "metadata": {},
   "outputs": [],
   "source": []
  },
  {
   "cell_type": "code",
   "execution_count": null,
   "id": "4d25fa2e",
   "metadata": {},
   "outputs": [],
   "source": []
  },
  {
   "cell_type": "code",
   "execution_count": null,
   "id": "9afe7ab2",
   "metadata": {},
   "outputs": [],
   "source": []
  },
  {
   "cell_type": "code",
   "execution_count": null,
   "id": "1d654e70",
   "metadata": {},
   "outputs": [],
   "source": []
  },
  {
   "cell_type": "code",
   "execution_count": null,
   "id": "e418b863",
   "metadata": {},
   "outputs": [],
   "source": []
  },
  {
   "cell_type": "code",
   "execution_count": null,
   "id": "fb51b6a9",
   "metadata": {},
   "outputs": [],
   "source": []
  }
 ],
 "metadata": {
  "kernelspec": {
   "display_name": "Python 3 (ipykernel)",
   "language": "python",
   "name": "python3"
  },
  "language_info": {
   "codemirror_mode": {
    "name": "ipython",
    "version": 3
   },
   "file_extension": ".py",
   "mimetype": "text/x-python",
   "name": "python",
   "nbconvert_exporter": "python",
   "pygments_lexer": "ipython3",
   "version": "3.9.7"
  }
 },
 "nbformat": 4,
 "nbformat_minor": 5
}
