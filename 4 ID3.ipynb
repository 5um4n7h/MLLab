{
 "cells": [
  {
   "cell_type": "code",
   "execution_count": 16,
   "id": "d4f1be66",
   "metadata": {},
   "outputs": [
    {
     "name": "stdout",
     "output_type": "stream",
     "text": [
      "['Outlook', 'Temperature', 'Humidity', 'Wind', 'Answer']\n",
      "['Outlook', 'Temperature', 'Humidity', 'Wind']\n"
     ]
    }
   ],
   "source": [
    "import numpy as np\n",
    "import pandas as pd\n",
    "from collections import Counter \n",
    "import math\n",
    "import pprint\n",
    "data = pd.read_csv(\"weatherid3.csv\")\n",
    "df = pd.DataFrame(data)\n",
    "\n",
    "attrs = list(df.columns)\n",
    "print(attrs)\n",
    "attrs.remove(\"Answer\")\n",
    "print(attrs)"
   ]
  },
  {
   "cell_type": "code",
   "execution_count": 10,
   "id": "60fd0e58",
   "metadata": {},
   "outputs": [
    {
     "name": "stdout",
     "output_type": "stream",
     "text": [
      "0.9402859586706309\n"
     ]
    }
   ],
   "source": [
    "def entr(a_list):\n",
    "    cnt = Counter(a_list)\n",
    "    probs = [inst/len(a_list) for inst in cnt.values()]\n",
    "    entropy = sum([-prob*math.log(prob,2) for prob in probs])\n",
    "    return entropy\n",
    "\n",
    "print(entr(df[\"Answer\"]))"
   ]
  },
  {
   "cell_type": "code",
   "execution_count": 7,
   "id": "3def88ff",
   "metadata": {},
   "outputs": [],
   "source": [
    "def propOb(a_list):\n",
    "    return len(a_list)/len(df.index)"
   ]
  },
  {
   "cell_type": "code",
   "execution_count": 19,
   "id": "9c092418",
   "metadata": {},
   "outputs": [],
   "source": [
    "def info_gain(df,split_attr,tar_attr):\n",
    "    df_split = df.groupby(split_attr)\n",
    "    df_agg_ent = df_split.agg({tar_attr:[entr,propOb]})\n",
    "    df_agg_ent.columns = ['Entr',\"propOb\"]\n",
    "    newe = sum(df_agg_ent['Entr']*df_agg_ent['propOb'])\n",
    "    olde = entr(df[tar_attr])\n",
    "    return olde-newe"
   ]
  },
  {
   "cell_type": "code",
   "execution_count": 29,
   "id": "365ca01f",
   "metadata": {},
   "outputs": [],
   "source": [
    "def id3(df,attrl,tar_attr):\n",
    "    cnt = Counter(df[tar_attr])\n",
    "    if len(cnt)==1:\n",
    "        return next(iter(cnt))\n",
    "    if df.empty or not attrl:\n",
    "        return None\n",
    "    \n",
    "    gains = [info_gain(df,attr,tar_attr) for attr in attrl]\n",
    "    iom = gains.index(max(gains))\n",
    "    \n",
    "    best = attrl[iom]\n",
    "    tree = {best:{}} \n",
    "    \n",
    "    rem = attrl.copy()\n",
    "    rem.remove(best)\n",
    "    \n",
    "    for attr,ds in df.groupby(best):\n",
    "        tree[best][attr] = id3(ds,rem,tar_attr)\n",
    "        \n",
    "    return tree"
   ]
  },
  {
   "cell_type": "code",
   "execution_count": 30,
   "id": "022e818d",
   "metadata": {},
   "outputs": [
    {
     "name": "stdout",
     "output_type": "stream",
     "text": [
      "{'Outlook': {'overcast': 'yes',\n",
      "             'rain': {'Wind': {'strong': 'no', 'weak': 'yes'}},\n",
      "             'sunny': {'Humidity': {'high': 'no', 'normal': 'yes'}}}}\n"
     ]
    }
   ],
   "source": [
    "pprint.pprint(id3(df,attrs,'Answer'))"
   ]
  },
  {
   "cell_type": "code",
   "execution_count": null,
   "id": "6c60c456",
   "metadata": {},
   "outputs": [],
   "source": []
  }
 ],
 "metadata": {
  "kernelspec": {
   "display_name": "Python 3 (ipykernel)",
   "language": "python",
   "name": "python3"
  },
  "language_info": {
   "codemirror_mode": {
    "name": "ipython",
    "version": 3
   },
   "file_extension": ".py",
   "mimetype": "text/x-python",
   "name": "python",
   "nbconvert_exporter": "python",
   "pygments_lexer": "ipython3",
   "version": "3.9.7"
  }
 },
 "nbformat": 4,
 "nbformat_minor": 5
}
