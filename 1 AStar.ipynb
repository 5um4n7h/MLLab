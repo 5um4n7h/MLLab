{
 "cells": [
  {
   "cell_type": "code",
   "execution_count": 14,
   "id": "e8b59c0a",
   "metadata": {},
   "outputs": [],
   "source": [
    "\n",
    "def Astar(start,goal):\n",
    "    g={}\n",
    "    g[start] = 0\n",
    "    parent = {}\n",
    "    parent[start] = start\n",
    "    \n",
    "    closes = set()\n",
    "    opens=set(start)\n",
    "    \n",
    "    while len(opens)>0:\n",
    "        best = None\n",
    "        \n",
    "        for node in opens:\n",
    "            if best==None or g[best]+h[best]>g[node]+h[node]:\n",
    "                best = node\n",
    "                \n",
    "        if best==None :\n",
    "            break\n",
    "            \n",
    "        if best==goal:\n",
    "            path = []\n",
    "            while best!=start:\n",
    "                path.append(best)\n",
    "                best = parent[best]\n",
    "            path.append(start)\n",
    "            \n",
    "            print(\"Path : \",path[::-1])\n",
    "            return path\n",
    "        else:\n",
    "            for nbr,w in graph[best]:\n",
    "                if nbr not in closes:\n",
    "                    opens.add(nbr)\n",
    "                    g[nbr] = g[best]+w\n",
    "                    parent[nbr] = best\n",
    "                    \n",
    "        opens.remove(best)\n",
    "        closes.add(best)\n",
    "    \n",
    "    print(\"No path : \")\n",
    "    return None"
   ]
  },
  {
   "cell_type": "code",
   "execution_count": 15,
   "id": "41a2cd9b",
   "metadata": {},
   "outputs": [
    {
     "name": "stdout",
     "output_type": "stream",
     "text": [
      "Path :  ['A', 'F', 'G', 'I', 'J']\n"
     ]
    },
    {
     "data": {
      "text/plain": [
       "['J', 'I', 'G', 'F', 'A']"
      ]
     },
     "execution_count": 15,
     "metadata": {},
     "output_type": "execute_result"
    }
   ],
   "source": [
    "#for simplicity we ll consider heuristic distances given\n",
    "#and this function returns heuristic distance for all nodes\n",
    "h = {\n",
    "        'A': 11,\n",
    "        'B': 6,\n",
    "        'C': 5,\n",
    "        'D': 7,\n",
    "        'E': 3,\n",
    "        'F': 6,\n",
    "        'G': 5,\n",
    "        'H': 3,\n",
    "        'I': 1,\n",
    "        'J': 0\n",
    "    }\n",
    "    \n",
    "\n",
    "#Describe your graph here\n",
    "graph = {\n",
    "    'A': [('B', 6), ('F', 3)],\n",
    "    'B': [('A', 6), ('C', 3), ('D', 2)],\n",
    "    'C': [('B', 3), ('D', 1), ('E', 5)],\n",
    "    'D': [('B', 2), ('C', 1), ('E', 8)],\n",
    "    'E': [('C', 5), ('D', 8), ('I', 5), ('J', 5)],\n",
    "    'F': [('A', 3), ('G', 1), ('H', 7)],\n",
    "    'G': [('F', 1), ('I', 3)],\n",
    "    'H': [('F', 7), ('I', 2)],\n",
    "    'I': [('E', 5), ('G', 3), ('H', 2), ('J', 3)],\n",
    "}\n",
    "\n",
    "Astar('A', 'J')"
   ]
  },
  {
   "cell_type": "code",
   "execution_count": null,
   "id": "5ea33fa5",
   "metadata": {},
   "outputs": [],
   "source": []
  }
 ],
 "metadata": {
  "kernelspec": {
   "display_name": "Python 3 (ipykernel)",
   "language": "python",
   "name": "python3"
  },
  "language_info": {
   "codemirror_mode": {
    "name": "ipython",
    "version": 3
   },
   "file_extension": ".py",
   "mimetype": "text/x-python",
   "name": "python",
   "nbconvert_exporter": "python",
   "pygments_lexer": "ipython3",
   "version": "3.9.7"
  }
 },
 "nbformat": 4,
 "nbformat_minor": 5
}
